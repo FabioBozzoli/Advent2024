{
  "nbformat": 4,
  "nbformat_minor": 0,
  "metadata": {
    "colab": {
      "provenance": []
    },
    "kernelspec": {
      "name": "python3",
      "display_name": "Python 3"
    },
    "language_info": {
      "name": "python"
    }
  },
  "cells": [
    {
      "cell_type": "code",
      "execution_count": null,
      "metadata": {
        "id": "WgBmJ9eM96VQ"
      },
      "outputs": [],
      "source": [
        "import numpy as np\n",
        "import pandas as pd"
      ]
    },
    {
      "cell_type": "code",
      "source": [
        "df = pd.read_csv(\"input.txt\", sep = \" \", header = None)"
      ],
      "metadata": {
        "id": "mW1_yLeW99SP"
      },
      "execution_count": null,
      "outputs": []
    },
    {
      "cell_type": "code",
      "source": [
        "left, right = df[0], df[3]"
      ],
      "metadata": {
        "id": "eqfUhoDj-KIS"
      },
      "execution_count": null,
      "outputs": []
    },
    {
      "cell_type": "code",
      "source": [
        "left = np.array(left.sort_values())"
      ],
      "metadata": {
        "id": "kRYVp61M-Kv9"
      },
      "execution_count": null,
      "outputs": []
    },
    {
      "cell_type": "code",
      "source": [
        "right = np.array(right.sort_values())"
      ],
      "metadata": {
        "id": "KB373pFAACQG"
      },
      "execution_count": null,
      "outputs": []
    },
    {
      "cell_type": "code",
      "source": [
        "abs(left-right).sum()"
      ],
      "metadata": {
        "colab": {
          "base_uri": "https://localhost:8080/"
        },
        "id": "0tqz05ZqAog2",
        "outputId": "067ce6a4-282a-49c0-c0c3-03e17df752c4"
      },
      "execution_count": null,
      "outputs": [
        {
          "output_type": "execute_result",
          "data": {
            "text/plain": [
              "1830467"
            ]
          },
          "metadata": {},
          "execution_count": 36
        }
      ]
    },
    {
      "cell_type": "code",
      "source": [
        "somma = 0\n",
        "for i in left:\n",
        "    count = (i==right).sum()\n",
        "    somma += i*count"
      ],
      "metadata": {
        "id": "eWtXIZRuC1yk"
      },
      "execution_count": null,
      "outputs": []
    },
    {
      "cell_type": "code",
      "source": [
        "somma"
      ],
      "metadata": {
        "colab": {
          "base_uri": "https://localhost:8080/"
        },
        "id": "rg_UpA44CXS7",
        "outputId": "1629cabb-a293-4b37-fb5f-1fd01578922e"
      },
      "execution_count": null,
      "outputs": [
        {
          "output_type": "execute_result",
          "data": {
            "text/plain": [
              "26674158"
            ]
          },
          "metadata": {},
          "execution_count": 41
        }
      ]
    },
    {
      "cell_type": "code",
      "source": [],
      "metadata": {
        "id": "lnaSlJGtDDsl"
      },
      "execution_count": null,
      "outputs": []
    }
  ]
}